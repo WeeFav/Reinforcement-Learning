{
 "cells": [
  {
   "attachments": {},
   "cell_type": "markdown",
   "metadata": {},
   "source": [
    "https://github.com/PacktPublishing/Reinforcement-Learning-Algorithms-with-Python/tree/master/Chapter03"
   ]
  },
  {
   "cell_type": "code",
   "execution_count": 1,
   "metadata": {},
   "outputs": [
    {
     "name": "stdout",
     "output_type": "stream",
     "text": [
      "Requirement already satisfied: cmake in c:\\python311\\lib\\site-packages (3.26.3)\n",
      "Requirement already satisfied: gym[atari]==0.10.9 in c:\\python311\\lib\\site-packages (0.10.9)\n",
      "Requirement already satisfied: scipy in c:\\python311\\lib\\site-packages (1.10.1)\n",
      "Requirement already satisfied: numpy>=1.10.4 in c:\\python311\\lib\\site-packages (from gym[atari]==0.10.9) (1.23.5)\n",
      "Requirement already satisfied: requests>=2.0 in c:\\users\\marvi\\appdata\\roaming\\python\\python311\\site-packages (from gym[atari]==0.10.9) (2.28.2)\n",
      "Requirement already satisfied: six in c:\\python311\\lib\\site-packages (from gym[atari]==0.10.9) (1.16.0)\n",
      "Requirement already satisfied: pyglet>=1.2.0 in c:\\python311\\lib\\site-packages (from gym[atari]==0.10.9) (1.3.2)\n",
      "Requirement already satisfied: atari-py>=0.1.4 in c:\\python311\\lib\\site-packages (from gym[atari]==0.10.9) (0.2.6)\n",
      "Requirement already satisfied: Pillow in c:\\python311\\lib\\site-packages (from gym[atari]==0.10.9) (9.4.0)\n",
      "Requirement already satisfied: PyOpenGL in c:\\python311\\lib\\site-packages (from gym[atari]==0.10.9) (3.1.7)\n",
      "Requirement already satisfied: future in c:\\python311\\lib\\site-packages (from pyglet>=1.2.0->gym[atari]==0.10.9) (0.18.3)\n",
      "Requirement already satisfied: charset-normalizer<4,>=2 in c:\\python311\\lib\\site-packages (from requests>=2.0->gym[atari]==0.10.9) (3.1.0)\n",
      "Requirement already satisfied: idna<4,>=2.5 in c:\\python311\\lib\\site-packages (from requests>=2.0->gym[atari]==0.10.9) (3.4)\n",
      "Requirement already satisfied: urllib3<1.27,>=1.21.1 in c:\\python311\\lib\\site-packages (from requests>=2.0->gym[atari]==0.10.9) (1.26.15)\n",
      "Requirement already satisfied: certifi>=2017.4.17 in c:\\users\\marvi\\appdata\\roaming\\python\\python311\\site-packages (from requests>=2.0->gym[atari]==0.10.9) (2022.12.7)\n",
      "Note: you may need to restart the kernel to use updated packages.\n"
     ]
    }
   ],
   "source": [
    "%pip install cmake gym[atari]==0.10.9 scipy"
   ]
  },
  {
   "cell_type": "code",
   "execution_count": 2,
   "metadata": {},
   "outputs": [],
   "source": [
    "import numpy as np\n",
    "import gym\n",
    "\n",
    "def eval_state_action(V, s, a, gamma=0.99):\n",
    "    return np.sum([p * (rew + gamma*V[next_s]) for p, next_s, rew, _ in env.P[s][a]])\n",
    "\n",
    "def policy_evaluation(V, policy, eps=0.0001):\n",
    "    '''\n",
    "    Policy evaluation. Update the value function until it reach a steady state\n",
    "    '''\n",
    "    while True:\n",
    "        delta = 0 # this delta is used to check if v converges\n",
    "\n",
    "        # loop over all states\n",
    "        for s in range(nS): \n",
    "            old_v = V[s]\n",
    "            V[s] = eval_state_action(V, s, policy[s]) # update V[s] using the Bellman equation\n",
    "            delta = max(delta, np.abs(old_v - V[s])) # calculate delta\n",
    "        \n",
    "        # check if v converges (v doesn't change)\n",
    "        if delta < eps:\n",
    "            break\n",
    "\n",
    "def policy_improvement(V, policy):\n",
    "    '''\n",
    "    Policy improvement. Update the policy based on the value function\n",
    "    '''\n",
    "    policy_stable = True\n",
    "    for s in range(nS):\n",
    "        old_a = policy[s]\n",
    "        # update the policy with the action that bring to the highest state value\n",
    "        policy[s] = np.argmax([eval_state_action(V, s, a) for a in range(nA)])\n",
    "        if old_a != policy[s]: \n",
    "            policy_stable = False\n",
    "\n",
    "    return policy_stable\n",
    "\n",
    "def run_episodes(env, policy, num_games=100):\n",
    "    '''\n",
    "    Run some games to test a policy\n",
    "    '''\n",
    "    tot_rew = 0\n",
    "    state = env.reset()\n",
    "\n",
    "    for _ in range(num_games):\n",
    "        done = False\n",
    "        while not done:\n",
    "            # select the action accordingly to the policy\n",
    "            next_state, reward, done, _ = env.step(policy[state])\n",
    "                \n",
    "            state = next_state\n",
    "            tot_rew += reward \n",
    "            if done:\n",
    "                state = env.reset()\n",
    "\n",
    "    print('Won %i of %i games!'%(tot_rew, num_games))"
   ]
  },
  {
   "cell_type": "code",
   "execution_count": 3,
   "metadata": {},
   "outputs": [
    {
     "name": "stderr",
     "output_type": "stream",
     "text": [
      "c:\\Python311\\Lib\\site-packages\\gym\\envs\\registration.py:14: PkgResourcesDeprecationWarning: Parameters to load are deprecated.  Call .resolve and .require separately.\n",
      "  result = entry_point.load(False)\n"
     ]
    },
    {
     "name": "stdout",
     "output_type": "stream",
     "text": [
      "Converged after 7 policy iterations\n",
      "Won 78 of 100 games!\n",
      "[[0.54091157 0.49730529 0.46893217 0.4549538 ]\n",
      " [0.55745963 0.         0.35758788 0.        ]\n",
      " [0.59098844 0.64249454 0.61469305 0.        ]\n",
      " [0.         0.74131715 0.86263385 0.        ]]\n",
      "[[0. 3. 3. 3.]\n",
      " [0. 0. 0. 0.]\n",
      " [3. 1. 0. 0.]\n",
      " [0. 2. 1. 0.]]\n"
     ]
    }
   ],
   "source": [
    "# create the environment\n",
    "env = gym.make('FrozenLake-v0')\n",
    "# enwrap it to have additional information from it\n",
    "env = env.unwrapped\n",
    "\n",
    "# spaces dimension\n",
    "nA = env.action_space.n\n",
    "nS = env.observation_space.n\n",
    "\n",
    "# initializing value function and policy\n",
    "V = np.zeros(nS)\n",
    "policy = np.zeros(nS)\n",
    "\n",
    "# some useful variable\n",
    "policy_stable = False\n",
    "it = 0\n",
    "\n",
    "while not policy_stable:\n",
    "    policy_evaluation(V, policy)\n",
    "    policy_stable = policy_improvement(V, policy)\n",
    "    it += 1\n",
    "\n",
    "print('Converged after %i policy iterations'%(it))\n",
    "run_episodes(env, policy)\n",
    "print(V.reshape((4,4)))\n",
    "print(policy.reshape((4,4)))"
   ]
  },
  {
   "cell_type": "code",
   "execution_count": 4,
   "metadata": {},
   "outputs": [
    {
     "name": "stdout",
     "output_type": "stream",
     "text": [
      "  (Down)\n",
      "SFFF\n",
      "FHFH\n",
      "FFFH\n",
      "HFF\u001b[41mG\u001b[0m\n",
      "Timestep: 45\n"
     ]
    }
   ],
   "source": [
    "from IPython.display import clear_output\n",
    "from time import sleep\n",
    "\n",
    "state = env.reset()\n",
    "done = False\n",
    "i = 0\n",
    "\n",
    "while not done:\n",
    "    # select the action accordingly to the policy\n",
    "    next_state, reward, done, _ = env.step(int(policy[state]))\n",
    "    state = next_state\n",
    "    i += 1\n",
    "\n",
    "    env.render()\n",
    "    print(f\"Timestep: {i}\")\n",
    "    sleep(0.5)\n",
    "    clear_output(wait=True)"
   ]
  }
 ],
 "metadata": {
  "kernelspec": {
   "display_name": "Python 3",
   "language": "python",
   "name": "python3"
  },
  "language_info": {
   "codemirror_mode": {
    "name": "ipython",
    "version": 3
   },
   "file_extension": ".py",
   "mimetype": "text/x-python",
   "name": "python",
   "nbconvert_exporter": "python",
   "pygments_lexer": "ipython3",
   "version": "3.11.0"
  },
  "orig_nbformat": 4
 },
 "nbformat": 4,
 "nbformat_minor": 2
}
