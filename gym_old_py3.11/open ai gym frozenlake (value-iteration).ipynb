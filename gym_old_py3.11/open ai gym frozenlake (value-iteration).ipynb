{
 "cells": [
  {
   "attachments": {},
   "cell_type": "markdown",
   "metadata": {},
   "source": [
    "https://github.com/PacktPublishing/Reinforcement-Learning-Algorithms-with-Python/tree/master/Chapter03"
   ]
  },
  {
   "cell_type": "code",
   "execution_count": 1,
   "metadata": {},
   "outputs": [
    {
     "name": "stdout",
     "output_type": "stream",
     "text": [
      "Requirement already satisfied: cmake in c:\\python311\\lib\\site-packages (3.26.3)\n",
      "Requirement already satisfied: gym[atari]==0.10.9 in c:\\python311\\lib\\site-packages (0.10.9)\n",
      "Requirement already satisfied: scipy in c:\\python311\\lib\\site-packages (1.10.1)\n",
      "Requirement already satisfied: numpy>=1.10.4 in c:\\python311\\lib\\site-packages (from gym[atari]==0.10.9) (1.23.5)\n",
      "Requirement already satisfied: requests>=2.0 in c:\\users\\marvi\\appdata\\roaming\\python\\python311\\site-packages (from gym[atari]==0.10.9) (2.28.2)\n",
      "Requirement already satisfied: six in c:\\python311\\lib\\site-packages (from gym[atari]==0.10.9) (1.16.0)\n",
      "Requirement already satisfied: pyglet>=1.2.0 in c:\\python311\\lib\\site-packages (from gym[atari]==0.10.9) (1.3.2)\n",
      "Requirement already satisfied: atari-py>=0.1.4 in c:\\python311\\lib\\site-packages (from gym[atari]==0.10.9) (0.2.6)\n",
      "Requirement already satisfied: Pillow in c:\\python311\\lib\\site-packages (from gym[atari]==0.10.9) (9.4.0)\n",
      "Requirement already satisfied: PyOpenGL in c:\\python311\\lib\\site-packages (from gym[atari]==0.10.9) (3.1.7)\n",
      "Requirement already satisfied: future in c:\\python311\\lib\\site-packages (from pyglet>=1.2.0->gym[atari]==0.10.9) (0.18.3)\n",
      "Requirement already satisfied: charset-normalizer<4,>=2 in c:\\python311\\lib\\site-packages (from requests>=2.0->gym[atari]==0.10.9) (3.1.0)\n",
      "Requirement already satisfied: idna<4,>=2.5 in c:\\python311\\lib\\site-packages (from requests>=2.0->gym[atari]==0.10.9) (3.4)\n",
      "Requirement already satisfied: urllib3<1.27,>=1.21.1 in c:\\python311\\lib\\site-packages (from requests>=2.0->gym[atari]==0.10.9) (1.26.15)\n",
      "Requirement already satisfied: certifi>=2017.4.17 in c:\\users\\marvi\\appdata\\roaming\\python\\python311\\site-packages (from requests>=2.0->gym[atari]==0.10.9) (2022.12.7)\n",
      "Note: you may need to restart the kernel to use updated packages.\n"
     ]
    }
   ],
   "source": [
    "%pip install cmake gym[atari]==0.10.9 scipy"
   ]
  },
  {
   "cell_type": "code",
   "execution_count": 2,
   "metadata": {},
   "outputs": [
    {
     "name": "stdout",
     "output_type": "stream",
     "text": [
      "0.10.9\n"
     ]
    }
   ],
   "source": [
    "import gym\n",
    "print(gym.__version__)"
   ]
  },
  {
   "cell_type": "code",
   "execution_count": 3,
   "metadata": {},
   "outputs": [],
   "source": [
    "import numpy as np\n",
    "\n",
    "def eval_state_action(V, s, a, gamma=0.99):\n",
    "    return np.sum([p * (rew + gamma*V[next_s]) for p, next_s, rew, _ in env.P[s][a]])\n",
    "\n",
    "def value_iteration(eps=0.0001):\n",
    "    '''\n",
    "    Value iteration algorithm\n",
    "    '''\n",
    "    V = np.zeros(nS)\n",
    "    it = 0\n",
    "\n",
    "    while True:\n",
    "        delta = 0 # this delta is used to check if v converges\n",
    "\n",
    "        # update the value of each state using as \"policy\" the max operator\n",
    "        for s in range(nS):\n",
    "            old_v = V[s]\n",
    "            V[s] = np.max([eval_state_action(V, s, a) for a in range(nA)])\n",
    "            delta = max(delta, np.abs(old_v - V[s])) # calculate delta\n",
    "\n",
    "        # check if v converges (v doesn't change)\n",
    "        if delta < eps:\n",
    "            break\n",
    "        # else:\n",
    "        #     print('Iter:', it, ' delta:', np.round(delta, 5))\n",
    "        it += 1\n",
    "\n",
    "    return V\n",
    "\n",
    "def run_episodes(env, V, num_games=100):\n",
    "    '''\n",
    "    Run some test games\n",
    "    '''\n",
    "    tot_rew = 0\n",
    "    state = env.reset()\n",
    "\n",
    "    for _ in range(num_games):\n",
    "        done = False\n",
    "        while not done:\n",
    "            action = np.argmax([eval_state_action(V, state, a) for a in range(nA)])\n",
    "            next_state, reward, done, _ = env.step(action)\n",
    "\n",
    "            state = next_state\n",
    "            tot_rew += reward \n",
    "            if done:\n",
    "                state = env.reset()\n",
    "\n",
    "    print('Won %i of %i games!'%(tot_rew, num_games))"
   ]
  },
  {
   "cell_type": "code",
   "execution_count": 6,
   "metadata": {},
   "outputs": [
    {
     "name": "stderr",
     "output_type": "stream",
     "text": [
      "c:\\Python311\\Lib\\site-packages\\gym\\envs\\registration.py:14: PkgResourcesDeprecationWarning: Parameters to load are deprecated.  Call .resolve and .require separately.\n",
      "  result = entry_point.load(False)\n"
     ]
    },
    {
     "name": "stdout",
     "output_type": "stream",
     "text": [
      "Won 83 of 100 games!\n",
      "[[0.54083394 0.49722378 0.46884941 0.45487071]\n",
      " [0.55739213 0.         0.35755091 0.        ]\n",
      " [0.5909355  0.64245898 0.61466487 0.        ]\n",
      " [0.         0.74129273 0.86262154 0.        ]]\n"
     ]
    }
   ],
   "source": [
    " # create the environment\n",
    "env = gym.make('FrozenLake-v0')\n",
    "# enwrap it to have additional information from it\n",
    "env = env.unwrapped\n",
    "\n",
    "# spaces dimension\n",
    "nA = env.action_space.n\n",
    "nS = env.observation_space.n\n",
    "\n",
    "# Value iteration\n",
    "V = value_iteration(eps=0.0001)\n",
    "# test the value function on 100 games\n",
    "run_episodes(env, V, 100)\n",
    "# print the state values\n",
    "print(V.reshape((4,4)))"
   ]
  },
  {
   "cell_type": "code",
   "execution_count": 7,
   "metadata": {},
   "outputs": [
    {
     "name": "stdout",
     "output_type": "stream",
     "text": [
      "  (Down)\n",
      "SFFF\n",
      "FHFH\n",
      "FFFH\n",
      "HFF\u001b[41mG\u001b[0m\n",
      "Timestep: 56\n"
     ]
    }
   ],
   "source": [
    "from IPython.display import clear_output\n",
    "from time import sleep\n",
    "\n",
    "state = env.reset()\n",
    "done = False\n",
    "i = 0\n",
    "\n",
    "while not done:\n",
    "    # select the action accordingly to the policy\n",
    "    action = np.argmax([eval_state_action(V, state, a) for a in range(nA)])\n",
    "    next_state, reward, done, _ = env.step(action)\n",
    "    state = next_state\n",
    "    i += 1\n",
    "\n",
    "    \n",
    "    env.render()\n",
    "    print(f\"Timestep: {i}\")\n",
    "    sleep(0.5)\n",
    "    clear_output(wait=True)"
   ]
  }
 ],
 "metadata": {
  "kernelspec": {
   "display_name": "Python 3",
   "language": "python",
   "name": "python3"
  },
  "language_info": {
   "codemirror_mode": {
    "name": "ipython",
    "version": 3
   },
   "file_extension": ".py",
   "mimetype": "text/x-python",
   "name": "python",
   "nbconvert_exporter": "python",
   "pygments_lexer": "ipython3",
   "version": "3.11.0"
  },
  "orig_nbformat": 4
 },
 "nbformat": 4,
 "nbformat_minor": 2
}
