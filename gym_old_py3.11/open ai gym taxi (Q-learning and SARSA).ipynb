{
 "cells": [
  {
   "attachments": {},
   "cell_type": "markdown",
   "metadata": {},
   "source": [
    "https://github.com/PacktPublishing/Reinforcement-Learning-Algorithms-with-Python/tree/master/Chapter04"
   ]
  },
  {
   "cell_type": "code",
   "execution_count": 1,
   "metadata": {},
   "outputs": [
    {
     "name": "stdout",
     "output_type": "stream",
     "text": [
      "Requirement already satisfied: cmake in d:\\rl\\gym_version_old\\.venv\\lib\\site-packages (3.26.4)\n",
      "Requirement already satisfied: gym[atari]==0.10.9 in d:\\rl\\gym_version_old\\.venv\\lib\\site-packages (0.10.9)\n",
      "Requirement already satisfied: scipy in d:\\rl\\gym_version_old\\.venv\\lib\\site-packages (1.10.1)\n",
      "Requirement already satisfied: numpy>=1.10.4 in d:\\rl\\gym_version_old\\.venv\\lib\\site-packages (from gym[atari]==0.10.9) (1.24.3)\n",
      "Requirement already satisfied: requests>=2.0 in d:\\rl\\gym_version_old\\.venv\\lib\\site-packages (from gym[atari]==0.10.9) (2.31.0)\n",
      "Requirement already satisfied: six in d:\\rl\\gym_version_old\\.venv\\lib\\site-packages (from gym[atari]==0.10.9) (1.16.0)\n",
      "Requirement already satisfied: pyglet>=1.2.0 in d:\\rl\\gym_version_old\\.venv\\lib\\site-packages (from gym[atari]==0.10.9) (2.0.7)\n",
      "Requirement already satisfied: atari-py>=0.1.4 in d:\\rl\\gym_version_old\\.venv\\lib\\site-packages (from gym[atari]==0.10.9) (0.2.9)\n",
      "Requirement already satisfied: Pillow in d:\\rl\\gym_version_old\\.venv\\lib\\site-packages (from gym[atari]==0.10.9) (9.5.0)\n",
      "Requirement already satisfied: PyOpenGL in d:\\rl\\gym_version_old\\.venv\\lib\\site-packages (from gym[atari]==0.10.9) (3.1.7)\n",
      "Requirement already satisfied: charset-normalizer<4,>=2 in d:\\rl\\gym_version_old\\.venv\\lib\\site-packages (from requests>=2.0->gym[atari]==0.10.9) (3.1.0)\n",
      "Requirement already satisfied: idna<4,>=2.5 in d:\\rl\\gym_version_old\\.venv\\lib\\site-packages (from requests>=2.0->gym[atari]==0.10.9) (3.4)\n",
      "Requirement already satisfied: urllib3<3,>=1.21.1 in d:\\rl\\gym_version_old\\.venv\\lib\\site-packages (from requests>=2.0->gym[atari]==0.10.9) (2.0.3)\n",
      "Requirement already satisfied: certifi>=2017.4.17 in d:\\rl\\gym_version_old\\.venv\\lib\\site-packages (from requests>=2.0->gym[atari]==0.10.9) (2023.5.7)\n",
      "Note: you may need to restart the kernel to use updated packages.\n"
     ]
    }
   ],
   "source": [
    "%pip install cmake gym[atari]==0.10.9 scipy"
   ]
  },
  {
   "cell_type": "code",
   "execution_count": 2,
   "metadata": {},
   "outputs": [
    {
     "name": "stdout",
     "output_type": "stream",
     "text": [
      "0.10.9\n"
     ]
    }
   ],
   "source": [
    "import gym\n",
    "print(gym.__version__)"
   ]
  },
  {
   "cell_type": "code",
   "execution_count": 8,
   "metadata": {},
   "outputs": [],
   "source": [
    "import numpy as np \n",
    "\n",
    "\n",
    "def eps_greedy(Q, s, eps=0.1):\n",
    "    '''\n",
    "    Epsilon greedy policy\n",
    "    '''\n",
    "    if np.random.uniform(0,1) < eps:\n",
    "        # Choose a random action\n",
    "        return np.random.randint(Q.shape[1])\n",
    "    else:\n",
    "        # Choose the action of a greedy policy\n",
    "        return greedy(Q, s)\n",
    "\n",
    "\n",
    "def greedy(Q, s):\n",
    "    '''\n",
    "    Greedy policy\n",
    "\n",
    "    return the index corresponding to the maximum action-state value\n",
    "    '''\n",
    "    return np.argmax(Q[s])\n",
    "\n",
    "def run_episodes(env, Q, num_episodes=100, to_print=False):\n",
    "    '''\n",
    "    Run some episodes to test the policy\n",
    "    '''\n",
    "    tot_rew = []\n",
    "    state = env.reset()\n",
    "\n",
    "    for _ in range(num_episodes):\n",
    "        done = False\n",
    "        game_rew = 0\n",
    "\n",
    "        while not done:\n",
    "            # select a greedy action\n",
    "            next_state, rew, done, _ = env.step(greedy(Q, state))\n",
    "\n",
    "            state = next_state\n",
    "            game_rew += rew \n",
    "            if done:\n",
    "                state = env.reset()\n",
    "                tot_rew.append(game_rew)\n",
    "\n",
    "    if to_print:\n",
    "        print('Mean score: %.3f of %i games!'%(np.mean(tot_rew), num_episodes))\n",
    "\n",
    "    return np.mean(tot_rew)\n",
    "\n",
    "def Q_learning(env, lr=0.01, num_episodes=10000, eps=0.3, gamma=0.95, eps_decay=0.00005):\n",
    "    nA = env.action_space.n\n",
    "    nS = env.observation_space.n\n",
    "\n",
    "    # Initialize the Q matrix\n",
    "    # Q: matrix nS*nA where each row represent a state and each colums represent a different action\n",
    "    Q = np.zeros((nS, nA))\n",
    "    games_reward = []\n",
    "    test_rewards = []\n",
    "\n",
    "    for ep in range(num_episodes):\n",
    "        state = env.reset()\n",
    "        done = False\n",
    "        tot_rew = 0\n",
    "        \n",
    "        # decay the epsilon value until it reaches the threshold of 0.01\n",
    "        if eps > 0.01:\n",
    "            eps -= eps_decay\n",
    "\n",
    "        # loop the main body until the environment stops\n",
    "        while not done:\n",
    "            # select an action following the eps-greedy policy\n",
    "            action = eps_greedy(Q, state, eps)\n",
    "\n",
    "            next_state, rew, done, _ = env.step(action) # Take one step in the environment\n",
    "\n",
    "            # Q-learning update the state-action value (get the max Q value for the next state)\n",
    "            Q[state][action] = Q[state][action] + lr*(rew + gamma*np.max(Q[next_state]) - Q[state][action])\n",
    "\n",
    "            state = next_state\n",
    "            tot_rew += rew\n",
    "            if done:\n",
    "                games_reward.append(tot_rew)\n",
    "        \n",
    "        # Test the policy every 300 episodes and print the results\n",
    "        if (ep % 300) == 0:\n",
    "            test_rew = run_episodes(env, Q, 1000)\n",
    "            print(\"Episode:{:5d}  Eps:{:2.4f}  Rew:{:2.4f}\".format(ep, eps, test_rew))\n",
    "            test_rewards.append(test_rew)\n",
    "            \n",
    "    return Q"
   ]
  },
  {
   "cell_type": "code",
   "execution_count": 9,
   "metadata": {},
   "outputs": [
    {
     "name": "stdout",
     "output_type": "stream",
     "text": [
      "Episode:    0  Eps:0.3990  Rew:-228.7550\n",
      "Episode:  300  Eps:0.0990  Rew:-198.7120\n",
      "Episode:  600  Eps:0.0100  Rew:-181.1450\n",
      "Episode:  900  Eps:0.0100  Rew:-97.9730\n",
      "Episode: 1200  Eps:0.0100  Rew:-101.4580\n",
      "Episode: 1500  Eps:0.0100  Rew:-43.2500\n",
      "Episode: 1800  Eps:0.0100  Rew:-25.1790\n",
      "Episode: 2100  Eps:0.0100  Rew:-1.2440\n",
      "Episode: 2400  Eps:0.0100  Rew:1.1310\n",
      "Episode: 2700  Eps:0.0100  Rew:2.9030\n",
      "Episode: 3000  Eps:0.0100  Rew:6.3540\n",
      "Episode: 3300  Eps:0.0100  Rew:8.2400\n",
      "Episode: 3600  Eps:0.0100  Rew:7.6640\n",
      "Episode: 3900  Eps:0.0100  Rew:8.4060\n",
      "Episode: 4200  Eps:0.0100  Rew:8.4210\n",
      "Episode: 4500  Eps:0.0100  Rew:8.2480\n",
      "Episode: 4800  Eps:0.0100  Rew:8.4190\n"
     ]
    }
   ],
   "source": [
    "env = gym.make(\"Taxi-v2\")\n",
    "\n",
    "Q_qlearning = Q_learning(env, lr=.1, num_episodes=5000, eps=0.4, gamma=0.95, eps_decay=0.001)"
   ]
  },
  {
   "cell_type": "code",
   "execution_count": 10,
   "metadata": {},
   "outputs": [
    {
     "name": "stdout",
     "output_type": "stream",
     "text": [
      "+---------+\n",
      "|R: | : :G|\n",
      "| : : : : |\n",
      "| : : : : |\n",
      "| | : | : |\n",
      "|Y| : |\u001b[35m\u001b[42mB\u001b[0m\u001b[0m: |\n",
      "+---------+\n",
      "  (Dropoff)\n",
      "Timestep: 11\n",
      "State: 479\n",
      "Action: 5\n",
      "Reward: 20\n"
     ]
    }
   ],
   "source": [
    "from IPython.display import clear_output\n",
    "from time import sleep\n",
    "\n",
    "state = env.reset()\n",
    "done = False\n",
    "i = 0\n",
    "\n",
    "while not done:\n",
    "    # select a greedy action\n",
    "    action = greedy(Q_qlearning, state)\n",
    "    next_state, rew, done, _ = env.step(action)\n",
    "    i += 1\n",
    "    state = next_state\n",
    "\n",
    "    env.render()\n",
    "    print(f\"Timestep: {i}\")\n",
    "    print(f\"State: {state}\")\n",
    "    print(f\"Action: {action}\")\n",
    "    print(f\"Reward: {rew}\")\n",
    "    sleep(0.5)\n",
    "    clear_output(wait=True)"
   ]
  },
  {
   "cell_type": "code",
   "execution_count": 12,
   "metadata": {},
   "outputs": [],
   "source": [
    "def SARSA(env, lr=0.01, num_episodes=10000, eps=0.3, gamma=0.95, eps_decay=0.00005):\n",
    "    nA = env.action_space.n\n",
    "    nS = env.observation_space.n\n",
    "\n",
    "    # Initialize the Q matrix\n",
    "    # Q: matrix nS*nA where each row represent a state and each colums represent a different action\n",
    "    Q = np.zeros((nS, nA))\n",
    "    games_reward = []\n",
    "    test_rewards = []\n",
    "\n",
    "    for ep in range(num_episodes):\n",
    "        state = env.reset()\n",
    "        done = False\n",
    "        tot_rew = 0\n",
    "\n",
    "        # decay the epsilon value until it reaches the threshold of 0.01\n",
    "        if eps > 0.01:\n",
    "            eps -= eps_decay\n",
    "\n",
    "\n",
    "        action = eps_greedy(Q, state, eps) \n",
    "\n",
    "        # loop the main body until the environment stops\n",
    "        while not done:\n",
    "            next_state, rew, done, _ = env.step(action) # Take one step in the environment\n",
    "\n",
    "            # choose the next action (needed for the SARSA update)\n",
    "            next_action = eps_greedy(Q, next_state, eps) \n",
    "            # SARSA update\n",
    "            Q[state][action] = Q[state][action] + lr*(rew + gamma*Q[next_state][next_action] - Q[state][action])\n",
    "\n",
    "            state = next_state\n",
    "            action = next_action\n",
    "            tot_rew += rew\n",
    "            if done:\n",
    "                games_reward.append(tot_rew)\n",
    "\n",
    "        # Test the policy every 300 episodes and print the results\n",
    "        if (ep % 300) == 0:\n",
    "            test_rew = run_episodes(env, Q, 1000)\n",
    "            print(\"Episode:{:5d}  Eps:{:2.4f}  Rew:{:2.4f}\".format(ep, eps, test_rew))\n",
    "            test_rewards.append(test_rew)\n",
    "\n",
    "    return Q"
   ]
  },
  {
   "cell_type": "code",
   "execution_count": 13,
   "metadata": {},
   "outputs": [
    {
     "name": "stdout",
     "output_type": "stream",
     "text": [
      "Episode:    0  Eps:0.3990  Rew:-253.8020\n",
      "Episode:  300  Eps:0.0990  Rew:-250.6770\n",
      "Episode:  600  Eps:0.0100  Rew:-217.1280\n",
      "Episode:  900  Eps:0.0100  Rew:-95.5070\n",
      "Episode: 1200  Eps:0.0100  Rew:-119.9890\n",
      "Episode: 1500  Eps:0.0100  Rew:-23.5250\n",
      "Episode: 1800  Eps:0.0100  Rew:-20.4850\n",
      "Episode: 2100  Eps:0.0100  Rew:-7.6880\n",
      "Episode: 2400  Eps:0.0100  Rew:5.0430\n",
      "Episode: 2700  Eps:0.0100  Rew:6.5160\n",
      "Episode: 3000  Eps:0.0100  Rew:7.6550\n",
      "Episode: 3300  Eps:0.0100  Rew:8.2180\n",
      "Episode: 3600  Eps:0.0100  Rew:8.3030\n",
      "Episode: 3900  Eps:0.0100  Rew:8.1350\n",
      "Episode: 4200  Eps:0.0100  Rew:8.3240\n",
      "Episode: 4500  Eps:0.0100  Rew:8.2030\n",
      "Episode: 4800  Eps:0.0100  Rew:8.2790\n"
     ]
    }
   ],
   "source": [
    "env.reset()\n",
    "\n",
    "Q_sarsa = SARSA(env, lr=.1, num_episodes=5000, eps=0.4, gamma=0.95, eps_decay=0.001)"
   ]
  },
  {
   "cell_type": "code",
   "execution_count": 14,
   "metadata": {},
   "outputs": [
    {
     "name": "stdout",
     "output_type": "stream",
     "text": [
      "+---------+\n",
      "|R: | : :\u001b[35m\u001b[42mG\u001b[0m\u001b[0m|\n",
      "| : : : : |\n",
      "| : : : : |\n",
      "| | : | : |\n",
      "|Y| : |B: |\n",
      "+---------+\n",
      "  (Dropoff)\n",
      "Timestep: 14\n",
      "State: 97\n",
      "Action: 5\n",
      "Reward: 20\n"
     ]
    }
   ],
   "source": [
    "state = env.reset()\n",
    "done = False\n",
    "i = 0\n",
    "\n",
    "while not done:\n",
    "    # select a greedy action\n",
    "    action = greedy(Q_sarsa, state)\n",
    "    next_state, rew, done, _ = env.step(action)\n",
    "    i += 1\n",
    "    state = next_state\n",
    "\n",
    "    env.render()\n",
    "    print(f\"Timestep: {i}\")\n",
    "    print(f\"State: {state}\")\n",
    "    print(f\"Action: {action}\")\n",
    "    print(f\"Reward: {rew}\")\n",
    "    sleep(0.5)\n",
    "    clear_output(wait=True)"
   ]
  }
 ],
 "metadata": {
  "kernelspec": {
   "display_name": "Python 3",
   "language": "python",
   "name": "python3"
  },
  "language_info": {
   "codemirror_mode": {
    "name": "ipython",
    "version": 3
   },
   "file_extension": ".py",
   "mimetype": "text/x-python",
   "name": "python",
   "nbconvert_exporter": "python",
   "pygments_lexer": "ipython3",
   "version": "3.11.0"
  },
  "orig_nbformat": 4
 },
 "nbformat": 4,
 "nbformat_minor": 2
}
