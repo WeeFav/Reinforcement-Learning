{
 "cells": [
  {
   "attachments": {},
   "cell_type": "markdown",
   "metadata": {},
   "source": [
    "https://github.com/tsmatz/reinforcement-learning-tutorials/blob/master/02-policy-gradient.ipynb"
   ]
  },
  {
   "cell_type": "code",
   "execution_count": 1,
   "metadata": {},
   "outputs": [
    {
     "name": "stderr",
     "output_type": "stream",
     "text": [
      "d:\\RL\\policy-gradient\\.venv\\lib\\site-packages\\tqdm\\auto.py:21: TqdmWarning: IProgress not found. Please update jupyter and ipywidgets. See https://ipywidgets.readthedocs.io/en/stable/user_install.html\n",
      "  from .autonotebook import tqdm as notebook_tqdm\n"
     ]
    }
   ],
   "source": [
    "import gym\n",
    "import numpy as np\n",
    "import torch\n",
    "import torch.nn as nn\n",
    "from torch.nn import functional as F"
   ]
  },
  {
   "cell_type": "code",
   "execution_count": 2,
   "metadata": {},
   "outputs": [],
   "source": [
    "class PolicyPi(nn.Module):\n",
    "    def __init__(self, hidden_dim=64):\n",
    "        super().__init__()\n",
    "        self.hidden = nn.Linear(4, hidden_dim)\n",
    "        self.classify = nn.Linear(hidden_dim, 2)\n",
    "\n",
    "    def forward(self, s):\n",
    "        outs = self.hidden(s)\n",
    "        outs = F.relu(outs)\n",
    "        logits = self.classify(outs)\n",
    "        return logits\n",
    "    \n",
    "policy_pi = PolicyPi()"
   ]
  },
  {
   "cell_type": "code",
   "execution_count": 3,
   "metadata": {},
   "outputs": [
    {
     "name": "stderr",
     "output_type": "stream",
     "text": [
      "d:\\RL\\policy-gradient\\.venv\\lib\\site-packages\\ipykernel_launcher.py:10: UserWarning: Implicit dimension choice for softmax has been deprecated. Change the call to include dim=X as an argument.\n",
      "  # Remove the CWD from sys.path while we load stuff.\n"
     ]
    },
    {
     "name": "stdout",
     "output_type": "stream",
     "text": [
      "Run episode999 with rewards 500.0\n",
      "Done\n"
     ]
    }
   ],
   "source": [
    "gamma = 0.99\n",
    "\n",
    "def pick_sample(s):\n",
    "    with torch.no_grad():\n",
    "        s_batch = np.expand_dims(s, axis=0)\n",
    "        s_batch = torch.tensor(s_batch, dtype=torch.float)\n",
    "\n",
    "        logits = policy_pi.forward(s_batch)\n",
    "        logits = logits.squeeze(dim=0)\n",
    "        probs = F.softmax(logits)\n",
    "\n",
    "        a = torch.multinomial(probs, num_samples=1) # returns \n",
    "\n",
    "        return a.tolist()[0]\n",
    "\n",
    "env = gym.make(\"CartPole-v1\")\n",
    "reward_records = []\n",
    "opt = torch.optim.AdamW(policy_pi.parameters(), lr=0.001)\n",
    "\n",
    "for i in range(1000):\n",
    "\n",
    "    # run each episode\n",
    "    done = False\n",
    "    states = []\n",
    "    actions = []\n",
    "    rewards = []\n",
    "    s = env.reset()\n",
    "    while not done:\n",
    "        states.append(s.tolist())\n",
    "        a = pick_sample(s)\n",
    "        s, r, done, _ = env.step(a)\n",
    "        actions.append(a)\n",
    "        rewards.append(r)\n",
    "\n",
    "    # get cumulative rewards (discounted reward)\n",
    "    cum_rewards = np.zeros_like(rewards)\n",
    "    reward_len = len(rewards)\n",
    "    for j in reversed(range(reward_len)):\n",
    "        cum_rewards[j] = rewards[j] + (cum_rewards[j+1] * gamma if j+1 < reward_len else 0) # building R(tau) from the last G to the first G so that the previous G can access later G\n",
    "\n",
    "    # train\n",
    "    states = torch.tensor(states, dtype=torch.float)\n",
    "    actions = torch.tensor(actions, dtype=torch.int64)\n",
    "    cum_rewards = torch.tensor(cum_rewards, dtype=torch.float)\n",
    "    opt.zero_grad()\n",
    "    logits = policy_pi(states)\n",
    "    log_probs = -F.cross_entropy(logits, actions, reduction=\"none\") # Cross-entropy loss is -log P\n",
    "    loss = -log_probs * cum_rewards\n",
    "    loss.sum().backward()\n",
    "    opt.step()\n",
    "\n",
    "    # Record total rewards in episode (max 500)\n",
    "    print(\"Run episode{} with rewards {}\".format(i, sum(rewards)), end=\"\\r\")\n",
    "    reward_records.append(sum(rewards))\n",
    "\n",
    "print(\"\\nDone\")\n",
    "env.close()"
   ]
  },
  {
   "cell_type": "code",
   "execution_count": 8,
   "metadata": {},
   "outputs": [
    {
     "name": "stderr",
     "output_type": "stream",
     "text": [
      "d:\\RL\\policy-gradient\\.venv\\lib\\site-packages\\ipykernel_launcher.py:10: UserWarning: Implicit dimension choice for softmax has been deprecated. Change the call to include dim=X as an argument.\n",
      "  # Remove the CWD from sys.path while we load stuff.\n"
     ]
    }
   ],
   "source": [
    "s = env.reset()\n",
    "done = False\n",
    "\n",
    "while not done:\n",
    "    a = pick_sample(s)\n",
    "    s, r, done, _ = env.step(a)\n",
    "    env.render()\n",
    "\n",
    "env.close()"
   ]
  }
 ],
 "metadata": {
  "kernelspec": {
   "display_name": ".venv",
   "language": "python",
   "name": "python3"
  },
  "language_info": {
   "codemirror_mode": {
    "name": "ipython",
    "version": 3
   },
   "file_extension": ".py",
   "mimetype": "text/x-python",
   "name": "python",
   "nbconvert_exporter": "python",
   "pygments_lexer": "ipython3",
   "version": "3.7.6"
  },
  "orig_nbformat": 4
 },
 "nbformat": 4,
 "nbformat_minor": 2
}
