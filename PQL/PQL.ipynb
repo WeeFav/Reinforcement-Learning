{
 "cells": [
  {
   "cell_type": "code",
   "execution_count": 1,
   "metadata": {},
   "outputs": [],
   "source": [
    "%load_ext autoreload\n",
    "%autoreload 2"
   ]
  },
  {
   "cell_type": "code",
   "execution_count": 2,
   "metadata": {},
   "outputs": [],
   "source": [
    "import gymnasium as gym\n",
    "import mo_gymnasium as mo_gym\n",
    "import numpy as np\n",
    "import matplotlib.pyplot as plt\n",
    "from gymnasium.wrappers.record_video import RecordVideo\n",
    "\n",
    "\n",
    "env = mo_gym.make(\"deep-sea-treasure-v0\")"
   ]
  },
  {
   "cell_type": "code",
   "execution_count": 3,
   "metadata": {},
   "outputs": [
    {
     "data": {
      "text/plain": [
       "Box(0, 10, (2,), int32)"
      ]
     },
     "execution_count": 3,
     "metadata": {},
     "output_type": "execute_result"
    }
   ],
   "source": [
    "env.observation_space"
   ]
  },
  {
   "cell_type": "code",
   "execution_count": 4,
   "metadata": {},
   "outputs": [
    {
     "data": {
      "text/plain": [
       "Discrete(4)"
      ]
     },
     "execution_count": 4,
     "metadata": {},
     "output_type": "execute_result"
    }
   ],
   "source": [
    "env.action_space"
   ]
  },
  {
   "cell_type": "code",
   "execution_count": 5,
   "metadata": {},
   "outputs": [
    {
     "name": "stderr",
     "output_type": "stream",
     "text": [
      "d:\\RL\\PQL\\.venv\\lib\\site-packages\\gymnasium\\core.py:311: UserWarning: \u001b[33mWARN: env.reward_space to get variables from other wrappers is deprecated and will be removed in v1.0, to get this variable you can do `env.unwrapped.reward_space` for environment variables or `env.get_wrapper_attr('reward_space')` that will search the reminding wrappers.\u001b[0m\n",
      "  logger.warn(\n"
     ]
    },
    {
     "data": {
      "text/plain": [
       "Box([ 0. -1.], [23.7 -1. ], (2,), float32)"
      ]
     },
     "execution_count": 5,
     "metadata": {},
     "output_type": "execute_result"
    }
   ],
   "source": [
    "env.reward_space"
   ]
  },
  {
   "cell_type": "code",
   "execution_count": 6,
   "metadata": {},
   "outputs": [
    {
     "name": "stderr",
     "output_type": "stream",
     "text": [
      "d:\\RL\\PQL\\.venv\\lib\\site-packages\\IPython\\core\\magics\\osm.py:417: UserWarning: using dhist requires you to install the `pickleshare` library.\n",
      "  self.shell.db['dhist'] = compress_dhist(dhist)[-100:]\n"
     ]
    },
    {
     "name": "stdout",
     "output_type": "stream",
     "text": [
      "d:\\RL\\PQL\\morl-baselines-main\n"
     ]
    }
   ],
   "source": [
    "%cd \"./morl-baselines-main/\"\n",
    "from morl_baselines.multi_policy.pareto_q_learning.pql import PQL"
   ]
  },
  {
   "cell_type": "code",
   "execution_count": 7,
   "metadata": {},
   "outputs": [
    {
     "name": "stderr",
     "output_type": "stream",
     "text": [
      "d:\\RL\\PQL\\.venv\\lib\\site-packages\\gymnasium\\core.py:311: UserWarning: \u001b[33mWARN: env.reward_space to get variables from other wrappers is deprecated and will be removed in v1.0, to get this variable you can do `env.unwrapped.reward_space` for environment variables or `env.get_wrapper_attr('reward_space')` that will search the reminding wrappers.\u001b[0m\n",
      "  logger.warn(\n"
     ]
    }
   ],
   "source": [
    "GAMMA = 0.99\n",
    "\n",
    "agent = PQL(\n",
    "    env=env,\n",
    "    ref_point=np.array([0, -50]),  # used to compute hypervolume\n",
    "    gamma=GAMMA,\n",
    "    log=False,  # use weights and biases to see the results!\n",
    ")"
   ]
  },
  {
   "cell_type": "code",
   "execution_count": 8,
   "metadata": {},
   "outputs": [
    {
     "data": {
      "text/plain": [
       "{'env_id': 'deep-sea-treasure-v0',\n",
       " 'ref_point': [0, -50],\n",
       " 'gamma': 0.99,\n",
       " 'initial_epsilon': 1.0,\n",
       " 'epsilon_decay_steps': 100000,\n",
       " 'final_epsilon': 0.1,\n",
       " 'seed': None}"
      ]
     },
     "execution_count": 8,
     "metadata": {},
     "output_type": "execute_result"
    }
   ],
   "source": [
    "agent.get_config()"
   ]
  },
  {
   "cell_type": "code",
   "execution_count": 9,
   "metadata": {},
   "outputs": [
    {
     "name": "stdout",
     "output_type": "stream",
     "text": [
      "episode 0 ends\n",
      "episode 100 ends\n",
      "episode 200 ends\n",
      "episode 300 ends\n",
      "episode 400 ends\n",
      "episode 500 ends\n",
      "episode 600 ends\n",
      "episode 700 ends\n",
      "episode 800 ends\n",
      "episode 900 ends\n",
      "episode 1000 ends\n",
      "episode 1100 ends\n",
      "episode 1200 ends\n",
      "episode 1300 ends\n",
      "episode 1400 ends\n",
      "episode 1500 ends\n",
      "episode 1600 ends\n",
      "episode 1700 ends\n",
      "episode 1800 ends\n",
      "episode 1900 ends\n",
      "episode 2000 ends\n",
      "episode 2100 ends\n",
      "episode 2200 ends\n",
      "episode 2300 ends\n",
      "episode 2400 ends\n",
      "episode 2500 ends\n",
      "episode 2600 ends\n",
      "episode 2700 ends\n",
      "episode 2800 ends\n",
      "episode 2900 ends\n",
      "episode 3000 ends\n",
      "episode 3100 ends\n",
      "episode 3200 ends\n",
      "episode 3300 ends\n",
      "episode 3400 ends\n",
      "episode 3500 ends\n",
      "episode 3600 ends\n",
      "episode 3700 ends\n",
      "episode 3800 ends\n",
      "episode 3900 ends\n",
      "episode 4000 ends\n",
      "episode 4100 ends\n",
      "episode 4200 ends\n",
      "episode 4300 ends\n",
      "episode 4400 ends\n",
      "episode 4500 ends\n",
      "episode 4600 ends\n",
      "episode 4700 ends\n",
      "episode 4800 ends\n",
      "episode 4900 ends\n",
      "episode 5000 ends\n",
      "episode 5100 ends\n",
      "episode 5200 ends\n",
      "episode 5300 ends\n",
      "episode 5400 ends\n",
      "episode 5500 ends\n",
      "episode 5600 ends\n",
      "episode 5700 ends\n",
      "episode 5800 ends\n",
      "episode 5900 ends\n",
      "episode 6000 ends\n",
      "episode 6100 ends\n",
      "episode 6200 ends\n",
      "episode 6300 ends\n",
      "episode 6400 ends\n",
      "episode 6500 ends\n",
      "episode 6600 ends\n",
      "episode 6700 ends\n",
      "episode 6800 ends\n",
      "episode 6900 ends\n",
      "episode 7000 ends\n",
      "episode 7100 ends\n",
      "episode 7200 ends\n",
      "episode 7300 ends\n",
      "episode 7400 ends\n",
      "episode 7500 ends\n",
      "episode 7600 ends\n",
      "episode 7700 ends\n",
      "episode 7800 ends\n",
      "episode 7900 ends\n",
      "episode 8000 ends\n",
      "episode 8100 ends\n",
      "episode 8200 ends\n",
      "episode 8300 ends\n",
      "episode 8400 ends\n",
      "episode 8500 ends\n",
      "episode 8600 ends\n",
      "episode 8700 ends\n",
      "episode 8800 ends\n",
      "episode 8900 ends\n"
     ]
    }
   ],
   "source": [
    "eval_env = mo_gym.make(\"deep-sea-treasure-v0\") # environment used for evaluation\n",
    "pcs = agent.train(total_timesteps=100000, eval_env=eval_env)"
   ]
  },
  {
   "cell_type": "code",
   "execution_count": 10,
   "metadata": {},
   "outputs": [
    {
     "data": {
      "text/plain": [
       "{(0.699999988079071, -1.0),\n",
       " (8.03681981306076, -2.9701),\n",
       " (11.046854115, -4.90099501),\n",
       " (13.180722091614, -6.793465209301),\n",
       " (14.074187108950262, -7.72553055720799),\n",
       " (14.85618993228868, -8.64827525163591),\n",
       " (17.373143823765123, -12.247897700103202),\n",
       " (17.813676097383638, -13.12541872310217),\n",
       " (19.07265374771985, -15.705680661607312),\n",
       " (19.777976783050544, -17.383137616441328)}"
      ]
     },
     "execution_count": 10,
     "metadata": {},
     "output_type": "execute_result"
    }
   ],
   "source": [
    "pcs"
   ]
  },
  {
   "cell_type": "code",
   "execution_count": 11,
   "metadata": {},
   "outputs": [
    {
     "data": {
      "image/png": "[encoded data removed]",
      "text/plain": [
       "<Figure size 640x480 with 1 Axes>"
      ]
     },
     "metadata": {},
     "output_type": "display_data"
    }
   ],
   "source": [
    "x = []\n",
    "y = []\n",
    "\n",
    "for point in pcs:\n",
    "    x.append(point[0])\n",
    "    y.append(point[1])\n",
    "\n",
    "plt.plot(y, x, 'o')\n",
    "plt.show()"
   ]
  },
  {
   "cell_type": "code",
   "execution_count": 14,
   "metadata": {},
   "outputs": [
    {
     "name": "stderr",
     "output_type": "stream",
     "text": [
      "d:\\RL\\PQL\\.venv\\lib\\site-packages\\gymnasium\\wrappers\\record_video.py:94: UserWarning: \u001b[33mWARN: Overwriting existing videos at d:\\RL\\PQL\\morl-baselines-main\\videos\\demo folder (try specifying a different `video_folder` for the `RecordVideo` wrapper if this is not desired)\u001b[0m\n",
      "  logger.warn(\n"
     ]
    },
    {
     "name": "stdout",
     "output_type": "stream",
     "text": [
      "Moviepy - Building video d:\\RL\\PQL\\morl-baselines-main\\videos\\demo\\rl-video-episode-0.mp4.\n",
      "Moviepy - Writing video d:\\RL\\PQL\\morl-baselines-main\\videos\\demo\\rl-video-episode-0.mp4\n",
      "\n"
     ]
    },
    {
     "name": "stderr",
     "output_type": "stream",
     "text": [
      "                                                          \r"
     ]
    },
    {
     "name": "stdout",
     "output_type": "stream",
     "text": [
      "Moviepy - Done !\n",
      "Moviepy - video ready d:\\RL\\PQL\\morl-baselines-main\\videos\\demo\\rl-video-episode-0.mp4\n"
     ]
    },
    {
     "data": {
      "text/plain": [
       "array([ 0.69999999, -1.        ])"
      ]
     },
     "execution_count": 14,
     "metadata": {},
     "output_type": "execute_result"
    }
   ],
   "source": [
    "env = mo_gym.make(\"deep-sea-treasure-v0\", render_mode=\"rgb_array\")\n",
    "env = RecordVideo(env, \"videos/demo\", episode_trigger=lambda e: True)\n",
    "vec = [0.7, -1]\n",
    "agent.track_policy(vec, env)"
   ]
  },
  {
   "cell_type": "code",
   "execution_count": null,
   "metadata": {},
   "outputs": [],
   "source": []
  }
 ],
 "metadata": {
  "kernelspec": {
   "display_name": ".venv",
   "language": "python",
   "name": "python3"
  },
  "language_info": {
   "codemirror_mode": {
    "name": "ipython",
    "version": 3
   },
   "file_extension": ".py",
   "mimetype": "text/x-python",
   "name": "python",
   "nbconvert_exporter": "python",
   "pygments_lexer": "ipython3",
   "version": "3.10.11"
  }
 },
 "nbformat": 4,
 "nbformat_minor": 2
}
